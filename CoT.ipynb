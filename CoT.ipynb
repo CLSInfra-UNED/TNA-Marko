{
 "cells": [
  {
   "cell_type": "code",
   "execution_count": null,
   "id": "80c18155",
   "metadata": {},
   "outputs": [],
   "source": [
    "!pip install hf_transfer"
   ]
  },
  {
   "cell_type": "code",
   "execution_count": null,
   "id": "304857b4",
   "metadata": {},
   "outputs": [],
   "source": [
    "import os\n",
    "os.environ[\"HF_HUB_ENABLE_HF_TRANSFER\"] = \"1\"\n",
    "print(os.getenv(\"HF_HUB_ENABLE_HF_TRANSFER\"))"
   ]
  },
  {
   "cell_type": "code",
   "execution_count": 1,
   "id": "abe64e31-1222-4eeb-9c10-983977d38c2d",
   "metadata": {
    "scrolled": true
   },
   "outputs": [],
   "source": [
    "import pandas as pd\n",
    "from transformers import AutoTokenizer, AutoModelForCausalLM, BitsAndBytesConfig, GenerationConfig, Conversation, pipeline\n",
    "import torch"
   ]
  },
  {
   "cell_type": "code",
   "execution_count": 2,
   "id": "f62f51e0-9273-4069-98cb-cc82103455e7",
   "metadata": {},
   "outputs": [],
   "source": [
    "model_name = \"meta-llama/Llama-2-7b-chat-hf\"\n",
    "#name = \"RomanOrac/llama-2-7b-slovenian\"\n",
    "model_name = \"mistralai/Mixtral-8x7B-Instruct-v0.1\"\n",
    "model_name = \"mistralai/Mistral-7B-Instruct-v0.2\""
   ]
  },
  {
   "cell_type": "code",
   "execution_count": 3,
   "id": "b1bb70c9-f131-4e17-bb17-2818e523a378",
   "metadata": {},
   "outputs": [
    {
     "data": {
      "text/plain": [
       "device(type='cuda')"
      ]
     },
     "execution_count": 3,
     "metadata": {},
     "output_type": "execute_result"
    }
   ],
   "source": [
    "device = torch.device('cuda' if torch.cuda.is_available() else 'cpu')\n",
    "device"
   ]
  },
  {
   "cell_type": "code",
   "execution_count": 4,
   "id": "5759feb1-a870-4c1d-b47e-6b69ec5cf5fe",
   "metadata": {},
   "outputs": [],
   "source": [
    "tokenizer = AutoTokenizer.from_pretrained(model_name)\n",
    "#tokenizer.pad_token_id = tokenizer.eos_token_id    # for open-ended generation"
   ]
  },
  {
   "cell_type": "code",
   "execution_count": 5,
   "id": "3e11852c-4e6b-4e92-a385-f33e9052a301",
   "metadata": {},
   "outputs": [],
   "source": [
    "tokenizer.chat_template = (\n",
    "            \"{% if messages[0]['role'] == 'system' %}\"\n",
    "            \"{% set loop_messages = messages[1:] %}\"\n",
    "            \"{% set system_message = messages[0]['content'] %}\"\n",
    "            \"{% else %}\"\n",
    "            \"{% set loop_messages = messages %}\"\n",
    "            \"{% set system_message = false %}\"\n",
    "            \"{% endif %}\"\n",
    "            \"{% for message in loop_messages %}\"\n",
    "            \"{% if (message['role'] == 'user') != (loop.index0 % 2 == 0) %}\"\n",
    "            \"{{ raise_exception('Conversation roles must alternate \"\n",
    "            \"user/assistant/user/assistant/...') }}\"\n",
    "            \"{% endif %}\"\n",
    "            \"{% if loop.index0 == 0 and system_message != false %}\"\n",
    "            \"{% set content = '<<SYS>>\\n' + system_message + '\\n<</SYS>>\\n\\n' + \"\n",
    "            \"message['content'] %}\"\n",
    "            \"{% else %}\"\n",
    "            \"{% set content = message['content'] %}\"\n",
    "            \"{% endif %}\"\n",
    "            \"{% if message['role'] == 'user' %}\"\n",
    "            '{{ bos_token + \"[INST] \" + content.strip() + \" [/INST]\" + \"\\n\" + \"Let\\'s think step by step:\" }}'\n",
    "            \"{% elif message['role'] == 'assistant' %}\"\n",
    "            \"{{ ' '  + content.strip() + ' ' + eos_token }}\"\n",
    "            \"{% endif %}\"\n",
    "            \"{% endfor %}\"\n",
    "            )"
   ]
  },
  {
   "cell_type": "code",
   "execution_count": 6,
   "id": "ac166a88-83f8-4668-864c-2915e5e610f0",
   "metadata": {},
   "outputs": [],
   "source": [
    "bnb_config = BitsAndBytesConfig(\n",
    "    load_in_4bit=True,\n",
    "    bnb_4bit_quant_type=\"nf4\",\n",
    "    bnb_4bit_compute_dtype=torch.float16,\n",
    "    bnb_4bit_use_double_quant=True,\n",
    ")"
   ]
  },
  {
   "cell_type": "code",
   "execution_count": null,
   "id": "f7a3567e",
   "metadata": {},
   "outputs": [],
   "source": [
    "!pip install accelerate"
   ]
  },
  {
   "cell_type": "code",
   "execution_count": 7,
   "id": "b417a6b7-cd7b-4cf7-9b71-e3026a972d56",
   "metadata": {},
   "outputs": [
    {
     "data": {
      "application/vnd.jupyter.widget-view+json": {
       "model_id": "df8c7ec9c52d4a2289ae6323081266d7",
       "version_major": 2,
       "version_minor": 0
      },
      "text/plain": [
       "Loading checkpoint shards:   0%|          | 0/3 [00:00<?, ?it/s]"
      ]
     },
     "metadata": {},
     "output_type": "display_data"
    },
    {
     "data": {
      "application/vnd.jupyter.widget-view+json": {
       "model_id": "05101f27d5ba485b86d78aaca256943c",
       "version_major": 2,
       "version_minor": 0
      },
      "text/plain": [
       "generation_config.json:   0%|          | 0.00/111 [00:00<?, ?B/s]"
      ]
     },
     "metadata": {},
     "output_type": "display_data"
    }
   ],
   "source": [
    "model = AutoModelForCausalLM.from_pretrained(\n",
    "    model_name,\n",
    "    quantization_config=bnb_config,\n",
    "    device_map=\"auto\",\n",
    "    trust_remote_code=True,\n",
    ")"
   ]
  },
  {
   "cell_type": "code",
   "execution_count": 8,
   "id": "cccd96d2-40be-441c-9b49-35c1d64b4368",
   "metadata": {},
   "outputs": [],
   "source": [
    "model.generation_config = GenerationConfig(\n",
    "    do_sample=True,\n",
    "    temperature=0.7, #0.01 > 1.0\n",
    "    #top_k=\n",
    ")"
   ]
  },
  {
   "cell_type": "code",
   "execution_count": 9,
   "id": "e3b164d8-104f-4bbc-84c9-723ad63341f4",
   "metadata": {},
   "outputs": [],
   "source": [
    "generation_pipe = pipeline(\n",
    "    \"conversational\",\n",
    "    model=model,\n",
    "    tokenizer=tokenizer,\n",
    "    trust_remote_code=True,\n",
    "    device_map=\"auto\",    # finds GPU\n",
    ")"
   ]
  },
  {
   "cell_type": "code",
   "execution_count": 10,
   "id": "71366a27-b308-4e00-8dcf-daf8d5155d98",
   "metadata": {},
   "outputs": [],
   "source": [
    "violence_df = pd.read_csv(\"violence.csv\")"
   ]
  },
  {
   "cell_type": "code",
   "execution_count": 11,
   "id": "261f5ab3-ffc0-402e-9ea6-9e8941662252",
   "metadata": {},
   "outputs": [
    {
     "data": {
      "text/plain": [
       "'Ker sicer nas boste prisilili, da bomo posegli s svoje rezervne višine, toda ne v volilni boj. ampak v vaša ušesa ter vam jih navili.'"
      ]
     },
     "execution_count": 11,
     "metadata": {},
     "output_type": "execute_result"
    }
   ],
   "source": [
    "violence_df.Sentence.loc[0]"
   ]
  },
  {
   "cell_type": "code",
   "execution_count": 12,
   "id": "db2d4645-da58-4d53-bc0f-039ba390056a",
   "metadata": {},
   "outputs": [],
   "source": [
    "examples_df = violence_df[violence_df[\"Example\"] == True]"
   ]
  },
  {
   "cell_type": "code",
   "execution_count": 13,
   "id": "2c999a43-bd76-4925-927a-d2911959d697",
   "metadata": {},
   "outputs": [
    {
     "data": {
      "text/html": [
       "<div>\n",
       "<style scoped>\n",
       "    .dataframe tbody tr th:only-of-type {\n",
       "        vertical-align: middle;\n",
       "    }\n",
       "\n",
       "    .dataframe tbody tr th {\n",
       "        vertical-align: top;\n",
       "    }\n",
       "\n",
       "    .dataframe thead th {\n",
       "        text-align: right;\n",
       "    }\n",
       "</style>\n",
       "<table border=\"1\" class=\"dataframe\">\n",
       "  <thead>\n",
       "    <tr style=\"text-align: right;\">\n",
       "      <th></th>\n",
       "      <th>Date</th>\n",
       "      <th>Sentence</th>\n",
       "      <th>Violent</th>\n",
       "      <th>Description</th>\n",
       "      <th>Example</th>\n",
       "    </tr>\n",
       "  </thead>\n",
       "  <tbody>\n",
       "    <tr>\n",
       "      <th>9</th>\n",
       "      <td>21. 11. 1925.</td>\n",
       "      <td>Princip naš bodi: odkrit in viteški boj s pošt...</td>\n",
       "      <td>True</td>\n",
       "      <td>Implied violence or violent methods</td>\n",
       "      <td>True</td>\n",
       "    </tr>\n",
       "    <tr>\n",
       "      <th>15</th>\n",
       "      <td>07. 02. 1925.</td>\n",
       "      <td>Boj, ki smo ga začeli, pa bomo vodili dalje: Z...</td>\n",
       "      <td>True</td>\n",
       "      <td>Implied violence or violent methods</td>\n",
       "      <td>True</td>\n",
       "    </tr>\n",
       "    <tr>\n",
       "      <th>23</th>\n",
       "      <td>03. 09. 1925.</td>\n",
       "      <td>Pripraviti vse, da bo to jutro čimpreje napoči...</td>\n",
       "      <td>True</td>\n",
       "      <td>Implied violence or violent methods</td>\n",
       "      <td>True</td>\n",
       "    </tr>\n",
       "    <tr>\n",
       "      <th>28</th>\n",
       "      <td>14. 02. 1925.</td>\n",
       "      <td>O tem si moramo biti vsi Orjunaši na jasnem da...</td>\n",
       "      <td>True</td>\n",
       "      <td>Implied violence or violent methods</td>\n",
       "      <td>True</td>\n",
       "    </tr>\n",
       "    <tr>\n",
       "      <th>33</th>\n",
       "      <td>24. 12. 1925.</td>\n",
       "      <td>Zbrisal ga bo, kakor besen orkan z zemlje, tak...</td>\n",
       "      <td>True</td>\n",
       "      <td>Implied violence or violent methods</td>\n",
       "      <td>True</td>\n",
       "    </tr>\n",
       "    <tr>\n",
       "      <th>60</th>\n",
       "      <td>05. 01. 1926.</td>\n",
       "      <td>Borba je pred nami in kri za nami, kri ki nas ...</td>\n",
       "      <td>True</td>\n",
       "      <td>Threat against other political parties</td>\n",
       "      <td>True</td>\n",
       "    </tr>\n",
       "  </tbody>\n",
       "</table>\n",
       "</div>"
      ],
      "text/plain": [
       "            Date                                            Sentence  Violent  \\\n",
       "9   21. 11. 1925.  Princip naš bodi: odkrit in viteški boj s pošt...     True   \n",
       "15  07. 02. 1925.  Boj, ki smo ga začeli, pa bomo vodili dalje: Z...     True   \n",
       "23  03. 09. 1925.  Pripraviti vse, da bo to jutro čimpreje napoči...     True   \n",
       "28  14. 02. 1925.  O tem si moramo biti vsi Orjunaši na jasnem da...     True   \n",
       "33  24. 12. 1925.  Zbrisal ga bo, kakor besen orkan z zemlje, tak...     True   \n",
       "60  05. 01. 1926.  Borba je pred nami in kri za nami, kri ki nas ...     True   \n",
       "\n",
       "                               Description  Example  \n",
       "9      Implied violence or violent methods     True  \n",
       "15     Implied violence or violent methods     True  \n",
       "23     Implied violence or violent methods     True  \n",
       "28     Implied violence or violent methods     True  \n",
       "33     Implied violence or violent methods     True  \n",
       "60  Threat against other political parties     True  "
      ]
     },
     "execution_count": 13,
     "metadata": {},
     "output_type": "execute_result"
    }
   ],
   "source": [
    "examples_df"
   ]
  },
  {
   "cell_type": "code",
   "execution_count": 14,
   "id": "9974c310-b85e-4764-ab11-5df878929e69",
   "metadata": {},
   "outputs": [],
   "source": [
    "text_df = pd.DataFrame()"
   ]
  },
  {
   "cell_type": "code",
   "execution_count": 15,
   "id": "09ea3fea-b523-4386-ba8f-d981029cb712",
   "metadata": {},
   "outputs": [],
   "source": [
    "ex_violence = violence_df[violence_df[\"Example\"] == False]\n",
    "sample_val = ex_violence.sample(5)"
   ]
  },
  {
   "cell_type": "code",
   "execution_count": null,
   "id": "4d4a7fd8",
   "metadata": {},
   "outputs": [],
   "source": [
    "no_violence = violence_df[violence_df[\"Violent\"] == False]"
   ]
  },
  {
   "cell_type": "markdown",
   "id": "8e73c39d-27aa-4f1b-92af-301dfb62d4ea",
   "metadata": {},
   "source": [
    "# Text generation"
   ]
  },
  {
   "cell_type": "code",
   "execution_count": 146,
   "id": "d496cb55-5892-4539-87dc-64dd508969f4",
   "metadata": {},
   "outputs": [],
   "source": [
    "system_prompt = \"You are an expert classifier in Slovenian 1920s history, rightwing organizations, nationalism, and sociology. You always answer in English.\""
   ]
  },
  {
   "cell_type": "code",
   "execution_count": 147,
   "id": "f43f1966-2554-4491-ac93-abcbd1b4812e",
   "metadata": {},
   "outputs": [],
   "source": [
    "prompt_base_few_shot = \"## Label this Slovenian text, according to wether it contains alusions to expansionism, contains words connected to harming other persons or damaging property, calls to potentially violent or subversive actions or sublevation (both explictly or figuratively), or not, indicating 'True' if it does and 'False' if it doesn't:\\n\""
   ]
  },
  {
   "cell_type": "code",
   "execution_count": 148,
   "id": "d7a1b8c0-8aef-4d2e-be36-433da70b5e87",
   "metadata": {},
   "outputs": [],
   "source": [
    "FEW_SHOT = prompt_base_few_shot+\"# Text: {text}\\n# Violent: {label}\\n# Description: {description}\\n\\n\""
   ]
  },
  {
   "cell_type": "code",
   "execution_count": 149,
   "id": "10389696-1256-4a6d-b7fa-2602fd9df706",
   "metadata": {},
   "outputs": [],
   "source": [
    "prompt_base = \"## Label JUST THE FOLLOWING Slovenian text, according to wether it contains alusions to expansionism, contains words connected to harming other persons or damaging property, calls to potentially violent or subversive actions or sublevation (both explictly or figuratively), or not, indicating 'True' if it does and 'False' if it doesn't:\\n\""
   ]
  },
  {
   "cell_type": "markdown",
   "id": "5da6164b-d50b-4d34-823d-a0e4ef89b25b",
   "metadata": {},
   "source": [
    "# Chainf of thought"
   ]
  },
  {
   "cell_type": "code",
   "execution_count": 158,
   "id": "54c219f5-5cb1-4526-a0ff-073aa9452405",
   "metadata": {},
   "outputs": [],
   "source": [
    "COT = f\"\"\"{prompt_base}\n",
    "## Answer:\n",
    "Let's think step by step to label this text according to wether the whole text contains language that can point to violence, includes alusions to expansionism, calls to violent or subversive actions or sublevation (explictly or figuratively), or not.\n",
    "\n",
    "Step 1: Recognize words or locutions related to any context of militarism, literal, metaphorical, or implied.\n",
    "- Identify key words or locutions related to any militaristic context, or metaphors and alusions about the violent behaviour such as 'žrtva', 'akcija', 'otpraviti', 'konačni obračun', or 'boj'.\n",
    "\n",
    "Step 2: Recognize words or locutions related to expansionist rhetoric, or words related to foreign conquest, invading or attacking state borders or war between two nations, literal, metaphorical, or implied.\n",
    "- Identify key words or locutions related to expansionist rhetoric, or words related to foreign conquest, invading or attacking state borders or war such as 'mrtvi straži', 'vpasti preko meje', 'or 'osvojiti meje'.\n",
    "\n",
    "Step 3: Recognize words or locutions related to signs of bodily harm, wounds or mutilation, literal, metaphorical, or implied.\n",
    "- Identify key words or locutions related to signs of bodily harm, such as 'krv', 'rana', or 'smrt'.\n",
    "\n",
    "Step 4: Recognize words or locutions related to signs of weapon use, literal, metaphorical, or implied.\n",
    "- Identify key words or locutions related to weapon use, such as 'bombe', 'revolver', 'nož'.\n",
    "\n",
    "Step 5: Recognize words or locutions related to self-defence or opposition, literal, metaphorical, or implied.\n",
    "- Identify key words or locutions related to defense, such as 'samoobramba', 'braniti se', 'ščit'.\n",
    "\n",
    "Step 6: Label the text based on the previous steps.\n",
    "- If even one previous step yields a result, label the whole text as 'Query: True'.\n",
    "- Otherwise, label the text as 'Query: False'.\n",
    "- Include a description of why the text has been labeled as such.\n",
    "\"\"\""
   ]
  },
  {
   "cell_type": "code",
   "execution_count": 151,
   "id": "01671c85-be6a-47e9-afd4-8360641f27e9",
   "metadata": {},
   "outputs": [],
   "source": [
    "text_df[\"prompts\"] = examples_df[[\"Sentence\", \"Violent\", \"Description\"]].astype(str).apply(lambda x: FEW_SHOT.format(text=x['Sentence'],label=x['Violent'],description=x['Description']), axis=1)"
   ]
  },
  {
   "cell_type": "code",
   "execution_count": 152,
   "id": "b568af17-a776-4b60-8dfe-43a0e1e43e6e",
   "metadata": {},
   "outputs": [],
   "source": [
    "few_shots = '## I present you here six (6) examples of correctly labeled texts based on similar problems:\\n' + \"\\n\".join(text_df[\"prompts\"].to_list()) + \"\\n\\nDo not take into account the previous examples, just use them as guidelines without labelling them.\\n\\n\""
   ]
  },
  {
   "cell_type": "code",
   "execution_count": 153,
   "id": "01b18df0-599e-427a-911c-3d709f966889",
   "metadata": {},
   "outputs": [],
   "source": [
    "def label(texts):\n",
    "    conversation = Conversation()\n",
    "    conversation.add_message({'role':'system', 'content': system_prompt})\n",
    "    conversation.add_message({'role':'user', 'content': few_shots+COT+prompt_base+\"# Text: \" + texts + \"\\n# Let's think step by step: \"})\n",
    "    response = generation_pipe(\n",
    "        conversation,\n",
    "        max_new_tokens=1280,\n",
    "        eos_token_id=tokenizer.eos_token_id,\n",
    "        pad_token_id=tokenizer.eos_token_id,\n",
    "    )\n",
    "    return response"
   ]
  },
  {
   "cell_type": "code",
   "execution_count": 154,
   "id": "c37a20a3-85fc-417c-b807-d570fa4efac0",
   "metadata": {},
   "outputs": [
    {
     "data": {
      "text/html": [
       "<div>\n",
       "<style scoped>\n",
       "    .dataframe tbody tr th:only-of-type {\n",
       "        vertical-align: middle;\n",
       "    }\n",
       "\n",
       "    .dataframe tbody tr th {\n",
       "        vertical-align: top;\n",
       "    }\n",
       "\n",
       "    .dataframe thead th {\n",
       "        text-align: right;\n",
       "    }\n",
       "</style>\n",
       "<table border=\"1\" class=\"dataframe\">\n",
       "  <thead>\n",
       "    <tr style=\"text-align: right;\">\n",
       "      <th></th>\n",
       "      <th>Date</th>\n",
       "      <th>Sentence</th>\n",
       "      <th>Violent</th>\n",
       "      <th>Description</th>\n",
       "      <th>Example</th>\n",
       "    </tr>\n",
       "  </thead>\n",
       "  <tbody>\n",
       "    <tr>\n",
       "      <th>55</th>\n",
       "      <td>27. 02. 1926.</td>\n",
       "      <td>Orjuna sprejema historično vloga organiziranja...</td>\n",
       "      <td>True</td>\n",
       "      <td>Attacking another country</td>\n",
       "      <td>False</td>\n",
       "    </tr>\n",
       "    <tr>\n",
       "      <th>76</th>\n",
       "      <td>25. 09. 1926.</td>\n",
       "      <td>Nacionalizem je na pohodu in zajema vedno glob...</td>\n",
       "      <td>True</td>\n",
       "      <td>Implied violence or violent methods</td>\n",
       "      <td>False</td>\n",
       "    </tr>\n",
       "    <tr>\n",
       "      <th>90</th>\n",
       "      <td>08. 07. 1926.</td>\n",
       "      <td>Za izpremembo so sam o sviraj trobači in peli ...</td>\n",
       "      <td>True</td>\n",
       "      <td>Implied violence or violent methods</td>\n",
       "      <td>False</td>\n",
       "    </tr>\n",
       "    <tr>\n",
       "      <th>98</th>\n",
       "      <td>03. 04. 1926.</td>\n",
       "      <td>S svojo močjo in smelostjo, s svojo ljubeznijo...</td>\n",
       "      <td>True</td>\n",
       "      <td>Implied violence or violent methods</td>\n",
       "      <td>False</td>\n",
       "    </tr>\n",
       "    <tr>\n",
       "      <th>48</th>\n",
       "      <td>24. 07. 1926.</td>\n",
       "      <td>Niti en Italijan ne sme prestopiti v tej zemlj...</td>\n",
       "      <td>True</td>\n",
       "      <td>Implied violence or violent methods</td>\n",
       "      <td>False</td>\n",
       "    </tr>\n",
       "  </tbody>\n",
       "</table>\n",
       "</div>"
      ],
      "text/plain": [
       "             Date                                            Sentence  \\\n",
       "55  27. 02. 1926.   Orjuna sprejema historično vloga organiziranja...   \n",
       "76   25. 09. 1926.  Nacionalizem je na pohodu in zajema vedno glob...   \n",
       "90   08. 07. 1926.  Za izpremembo so sam o sviraj trobači in peli ...   \n",
       "98   03. 04. 1926.  S svojo močjo in smelostjo, s svojo ljubeznijo...   \n",
       "48   24. 07. 1926.  Niti en Italijan ne sme prestopiti v tej zemlj...   \n",
       "\n",
       "    Violent                          Description  Example  \n",
       "55     True            Attacking another country    False  \n",
       "76     True  Implied violence or violent methods    False  \n",
       "90     True  Implied violence or violent methods    False  \n",
       "98     True  Implied violence or violent methods    False  \n",
       "48     True  Implied violence or violent methods    False  "
      ]
     },
     "execution_count": 154,
     "metadata": {},
     "output_type": "execute_result"
    }
   ],
   "source": [
    "sample_val"
   ]
  },
  {
   "cell_type": "code",
   "execution_count": 155,
   "id": "093f0904-7eeb-4908-a606-2f43524d3a50",
   "metadata": {
    "scrolled": true
   },
   "outputs": [
    {
     "name": "stderr",
     "output_type": "stream",
     "text": [
      "/home/alvaro/projects/TNA/Marko/venv/lib/python3.11/site-packages/transformers/pipelines/base.py:1101: UserWarning: You seem to be using the pipelines sequentially on GPU. In order to maximize efficiency please use a dataset\n",
      "  warnings.warn(\n"
     ]
    },
    {
     "data": {
      "text/plain": [
       "Conversation id: c09772b9-d0ff-454a-89dd-d58748597784\n",
       "system: You are an expert classifier in Slovenian 1920s historical propaganda, nationalism, and sociology. You always answer in English.\n",
       "user: ## I present you here six (6) examples of correctly labeled texts based on similar problems:\n",
       "## Label this Slovenian text, according to wether the whole text is violent, includes alusions to expansionism, calls to violent or subversive actions or sublevation (both explictly or figuratively), or not, indicating 'True' if it does and 'False' if it doesn't:\n",
       "# Text: Princip naš bodi: odkrit in viteški boj s poštenimi sredstvi, ki morajo služiti vedno samo naciji i ideji!\n",
       "# Violent: True\n",
       "# Description: Implied violence or violent methods\n",
       "\n",
       "\n",
       "## Label this Slovenian text, according to wether the whole text is violent, includes alusions to expansionism, calls to violent or subversive actions or sublevation (both explictly or figuratively), or not, indicating 'True' if it does and 'False' if it doesn't:\n",
       "# Text: Boj, ki smo ga začeli, pa bomo vodili dalje: Za Nacijo — do Pobede!\n",
       "# Violent: True\n",
       "# Description: Implied violence or violent methods\n",
       "\n",
       "\n",
       "## Label this Slovenian text, according to wether the whole text is violent, includes alusions to expansionism, calls to violent or subversive actions or sublevation (both explictly or figuratively), or not, indicating 'True' if it does and 'False' if it doesn't:\n",
       "# Text: Pripraviti vse, da bo to jutro čimpreje napočilo, je naloga nas vseh, ki čuvamo na jugoslovenski mrtvi straži; posebno pa še nas Orjunašev. \n",
       "# Violent: True\n",
       "# Description: Implied violence or violent methods\n",
       "\n",
       "\n",
       "## Label this Slovenian text, according to wether the whole text is violent, includes alusions to expansionism, calls to violent or subversive actions or sublevation (both explictly or figuratively), or not, indicating 'True' if it does and 'False' if it doesn't:\n",
       "# Text: O tem si moramo biti vsi Orjunaši na jasnem danes boli kakor kdaj prej in moramo ravno radi tega s še večjo vztrajnostjo graditi dalje svoje barikade, s katerih bomo nekoč, ko pride čas razvili svoje zmagovite prapore.\n",
       "# Violent: True\n",
       "# Description: Implied violence or violent methods\n",
       "\n",
       "\n",
       "## Label this Slovenian text, according to wether the whole text is violent, includes alusions to expansionism, calls to violent or subversive actions or sublevation (both explictly or figuratively), or not, indicating 'True' if it does and 'False' if it doesn't:\n",
       "# Text: Zbrisal ga bo, kakor besen orkan z zemlje, takoi v prvih borbah!\n",
       "# Violent: True\n",
       "# Description: Implied violence or violent methods\n",
       "\n",
       "\n",
       "## Label this Slovenian text, according to wether the whole text is violent, includes alusions to expansionism, calls to violent or subversive actions or sublevation (both explictly or figuratively), or not, indicating 'True' if it does and 'False' if it doesn't:\n",
       "# Text: Borba je pred nami in kri za nami, kri ki nas le zvezala na življenje i smrt.\n",
       "# Violent: True\n",
       "# Description: Threat against other political parties\n",
       "\n",
       "\n",
       "\n",
       "Do not take into account the previous examples, just use them as guidelines without labelling them.\n",
       "\n",
       "## Label JUST THE FOLLOWING Slovenian text, according to wether the whole text is violent, includes alusions to expansionism, calls to violent or subversive actions or sublevation (both explictly or figuratively), or not, indicating 'True' if it does and 'False' if it doesn't:\n",
       "\n",
       "## Answer:\n",
       "Let's think step by step to label this text according to wether the whole text is violent, includes alusions to expansionism, calls to violent or subversive actions or sublevation (both explictly or figuratively), or not.\n",
       "\n",
       "Step 1: Check for specific words.\n",
       "- Check for specific words and its variations such as 'akcija', 'akcie'.\n",
       "\n",
       "Step 2: Recognize words or locutions related to violence or calls to violent actions\n",
       "- Identify other key words or locutions related to violence or calls to violent action such as 'bitka', 'upor', or 'boj'.\n",
       "\n",
       "Step 3: Recognize words or locutions related to calls to expasionism\n",
       "- Identify key words or locutions related to hatespeech such as 'pohod', 'boj za meje'.\n",
       "\n",
       "Step 4: Label the text based on the previous steps\n",
       "- If you do find instances of specific words, related to violence, calls to violent actions, or calls to expasionism, label the text as 'Violent: True'\n",
       "- If you do not find any instances of specific words, related to violence, calls to violent actions, or calls to expasionism, label the text as 'Violent: False'\n",
       "- Include a description of why the text has been labeled as such\n",
       "## Label JUST THE FOLLOWING Slovenian text, according to wether the whole text is violent, includes alusions to expansionism, calls to violent or subversive actions or sublevation (both explictly or figuratively), or not, indicating 'True' if it does and 'False' if it doesn't:\n",
       "# Text: Orjuna da bo vedno medj prvimi nesebičnimi pobomiki, ki poidejo na čelu te akcie, katera mora izvesti prej ali slej v tei zemlji res popolno enakopravnost in reciprociteto med posameznimi narodovimi deli.\n",
       "# Let's think step by step: \n",
       "assistant: Step 1: Check for specific words.\n",
       "- The text contains the word 'akcija' which can be translated to 'action' or 'operation'. This word alone does not necessarily indicate violence or calls to violent actions.\n",
       "\n",
       "Step 2: Recognize words or locutions related to violence or calls to violent actions.\n",
       "- The text contains the word 'pobomiki' which can be translated to 'bombers'. This word alone does not necessarily indicate violence or calls to violent actions, as it can also refer to political activists who use peaceful means to bring about change. However, the context of the text suggests that the use of violence is implied, based on the earlier examples and the overall context of the text.\n",
       "\n",
       "Step 3: Recognize words or locutions related to calls to expansionism.\n",
       "- The text contains the phrase 'enakopravnost in reciprociteto med posameznimi narodovimi deli' which can be translated to 'equality and reciprocity among the individual national parts'. This phrase does not contain any overt references to expansionism or hatespeech.\n",
       "\n",
       "Step 4: Label the text based on the previous steps.\n",
       "- Based on the text provided, it appears to be implying a call to violent action, but it does not explicitly call for violence or subversion. Therefore, the label for this text would be: 'Violent: Implied'.\n",
       "- This text is likely advocating for the use of force to bring about equality and reciprocity among different national parts, but it does not explicitly call for violence or subversion.\n",
       "\n",
       "Description:\n",
       "This text implies a call to violent action in order to achieve equality and reciprocity among different national parts. It does not explicitly call for violence or subversion, but the context of the text suggests that violence is implied. The text also does not contain any overt references to expansionism or hatespeech."
      ]
     },
     "execution_count": 155,
     "metadata": {},
     "output_type": "execute_result"
    }
   ],
   "source": [
    "label(ex_violence.Sentence[75])  # test with 65"
   ]
  },
  {
   "cell_type": "code",
   "execution_count": 156,
   "id": "67a7294f-5329-4c37-adeb-bf5d30015c0a",
   "metadata": {},
   "outputs": [
    {
     "data": {
      "text/plain": [
       "Conversation id: eaf00383-3775-4fe8-acaa-c3a8f1797629\n",
       "system: You are an expert classifier in Slovenian 1920s historical propaganda, nationalism, and sociology. You always answer in English.\n",
       "user: ## I present you here six (6) examples of correctly labeled texts based on similar problems:\n",
       "## Label this Slovenian text, according to wether the whole text is violent, includes alusions to expansionism, calls to violent or subversive actions or sublevation (both explictly or figuratively), or not, indicating 'True' if it does and 'False' if it doesn't:\n",
       "# Text: Princip naš bodi: odkrit in viteški boj s poštenimi sredstvi, ki morajo služiti vedno samo naciji i ideji!\n",
       "# Violent: True\n",
       "# Description: Implied violence or violent methods\n",
       "\n",
       "\n",
       "## Label this Slovenian text, according to wether the whole text is violent, includes alusions to expansionism, calls to violent or subversive actions or sublevation (both explictly or figuratively), or not, indicating 'True' if it does and 'False' if it doesn't:\n",
       "# Text: Boj, ki smo ga začeli, pa bomo vodili dalje: Za Nacijo — do Pobede!\n",
       "# Violent: True\n",
       "# Description: Implied violence or violent methods\n",
       "\n",
       "\n",
       "## Label this Slovenian text, according to wether the whole text is violent, includes alusions to expansionism, calls to violent or subversive actions or sublevation (both explictly or figuratively), or not, indicating 'True' if it does and 'False' if it doesn't:\n",
       "# Text: Pripraviti vse, da bo to jutro čimpreje napočilo, je naloga nas vseh, ki čuvamo na jugoslovenski mrtvi straži; posebno pa še nas Orjunašev. \n",
       "# Violent: True\n",
       "# Description: Implied violence or violent methods\n",
       "\n",
       "\n",
       "## Label this Slovenian text, according to wether the whole text is violent, includes alusions to expansionism, calls to violent or subversive actions or sublevation (both explictly or figuratively), or not, indicating 'True' if it does and 'False' if it doesn't:\n",
       "# Text: O tem si moramo biti vsi Orjunaši na jasnem danes boli kakor kdaj prej in moramo ravno radi tega s še večjo vztrajnostjo graditi dalje svoje barikade, s katerih bomo nekoč, ko pride čas razvili svoje zmagovite prapore.\n",
       "# Violent: True\n",
       "# Description: Implied violence or violent methods\n",
       "\n",
       "\n",
       "## Label this Slovenian text, according to wether the whole text is violent, includes alusions to expansionism, calls to violent or subversive actions or sublevation (both explictly or figuratively), or not, indicating 'True' if it does and 'False' if it doesn't:\n",
       "# Text: Zbrisal ga bo, kakor besen orkan z zemlje, takoi v prvih borbah!\n",
       "# Violent: True\n",
       "# Description: Implied violence or violent methods\n",
       "\n",
       "\n",
       "## Label this Slovenian text, according to wether the whole text is violent, includes alusions to expansionism, calls to violent or subversive actions or sublevation (both explictly or figuratively), or not, indicating 'True' if it does and 'False' if it doesn't:\n",
       "# Text: Borba je pred nami in kri za nami, kri ki nas le zvezala na življenje i smrt.\n",
       "# Violent: True\n",
       "# Description: Threat against other political parties\n",
       "\n",
       "\n",
       "\n",
       "Do not take into account the previous examples, just use them as guidelines without labelling them.\n",
       "\n",
       "## Label JUST THE FOLLOWING Slovenian text, according to wether the whole text is violent, includes alusions to expansionism, calls to violent or subversive actions or sublevation (both explictly or figuratively), or not, indicating 'True' if it does and 'False' if it doesn't:\n",
       "\n",
       "## Answer:\n",
       "Let's think step by step to label this text according to wether the whole text is violent, includes alusions to expansionism, calls to violent or subversive actions or sublevation (both explictly or figuratively), or not.\n",
       "\n",
       "Step 1: Check for specific words.\n",
       "- Check for specific words and its variations such as 'akcija', 'akcie'.\n",
       "\n",
       "Step 2: Recognize words or locutions related to violence or calls to violent actions\n",
       "- Identify other key words or locutions related to violence or calls to violent action such as 'bitka', 'upor', or 'boj'.\n",
       "\n",
       "Step 3: Recognize words or locutions related to calls to expasionism\n",
       "- Identify key words or locutions related to hatespeech such as 'pohod', 'boj za meje'.\n",
       "\n",
       "Step 4: Label the text based on the previous steps\n",
       "- If you do find instances of specific words, related to violence, calls to violent actions, or calls to expasionism, label the text as 'Violent: True'\n",
       "- If you do not find any instances of specific words, related to violence, calls to violent actions, or calls to expasionism, label the text as 'Violent: False'\n",
       "- Include a description of why the text has been labeled as such\n",
       "## Label JUST THE FOLLOWING Slovenian text, according to wether the whole text is violent, includes alusions to expansionism, calls to violent or subversive actions or sublevation (both explictly or figuratively), or not, indicating 'True' if it does and 'False' if it doesn't:\n",
       "# Text: Orjuna bo pri vsem tem obdržala svoje nad- in izvenpartijsko stališče v nameri, da bo zamogla baš radi tega stališča nadaljevati delo pri om enjenem združenju in unifikaciji jugoslovenskih politničnih moči.\n",
       "# Let's think step by step: \n",
       "assistant: Step 1: Check for specific words.\n",
       "- No specific words related to violence, calls to violent actions, or calls to expansionism are present in the text.\n",
       "\n",
       "Step 2: Recognize words or locutions related to violence or calls to violent actions.\n",
       "- No key words or locutions related to violence or calls to violent actions are present in the text.\n",
       "\n",
       "Step 3: Recognize words or locutions related to calls to expansionism.\n",
       "- No key words or locutions related to expansionism are present in the text.\n",
       "\n",
       "Step 4: Label the text based on the previous steps.\n",
       "- The text does not contain instances of specific words, related to violence, calls to violent actions, or calls to expansionism. Therefore, the text should be labeled as 'Violent: False'.\n",
       "- Description: The text expresses Orjuna's intention to maintain her over- and outside party stance in order to continue her work at the unity of Jugoslovenskih političnih moči (Jugoslav political forces). No violent, expansionist, or subversive actions or sublevation are suggested or alluded to in the text."
      ]
     },
     "execution_count": 156,
     "metadata": {},
     "output_type": "execute_result"
    }
   ],
   "source": [
    "ans = label(ex_violence.Sentence[8])  # test with 65"
   ]
  },
  {
   "cell_type": "code",
   "execution_count": null,
   "id": "dac07f35-caaa-4ddd-b58a-ee52031a772a",
   "metadata": {},
   "outputs": [],
   "source": [
    "# Saving results \n",
    "\n",
    "idx_list = []\n",
    "answer_list = []\n",
    "for idx, _, text, _, _, _ in ex_violence.itertuples():\n",
    "  answer = label(text).generated_responses[0]\n",
    "  idx_list.append(idx)\n",
    "  answer_list.append(answer)"
   ]
  },
  {
   "cell_type": "code",
   "execution_count": null,
   "id": "194b8a2b",
   "metadata": {},
   "outputs": [],
   "source": [
    "ex_violence"
   ]
  },
  {
   "cell_type": "code",
   "execution_count": null,
   "id": "712d2e41",
   "metadata": {},
   "outputs": [],
   "source": [
    "results_df = pd.DataFrame()\n",
    "results_df[\"id\"] = idx_list\n",
    "results_df[\"date\"] = ex_violence[\"Date \"].to_list()\n",
    "results_df[\"sentence\"] = ex_violence.Sentence.to_list()\n",
    "results_df[\"label\"] = ex_violence.Violent.to_list()\n",
    "\n",
    "results_df[\"answer\"] = answer_list\n",
    "results_df.to_csv(\"results.csv\", index=False)\n",
    "results_df.to_excel(\"results.xlsx\", index=False)"
   ]
  },
  {
   "cell_type": "code",
   "execution_count": null,
   "id": "c607cd5b",
   "metadata": {},
   "outputs": [],
   "source": [
    "# Nevermind this block, it's just for easier assessment of results\n",
    "\n",
    "file = results_df.drop(['label'], axis=1)\n",
    "\n",
    "file_list = file['answer'].tolist()\n",
    "\n",
    "\n",
    "\n",
    "def list_to_string(s):\n",
    "    str1 = ''\n",
    "    for element in s:\n",
    "        str1 += element\n",
    "\n",
    "    return str1\n",
    "\n",
    "string_column1 = list_to_string(file_list)\n",
    "string_column = string_column1.replace(\"'\", \"\")\n",
    "\n",
    "final_list = string_column.split()\n",
    "\n",
    "result1 = final_list.count('True.')\n",
    "\n",
    "result2 = final_list.count('True')\n",
    "\n",
    "print('The number of queries marked as True is:', result1 + result2)\n"
   ]
  },
  {
   "cell_type": "code",
   "execution_count": null,
   "id": "afce3176",
   "metadata": {},
   "outputs": [],
   "source": [
    "# label(\"Iz tega mesta pojdi preko cele Jugoslavije in povej vsem neustrašno, da se v svojem pohodu, ki ga započeniaš s tega mesta, ne bojiš niti smrti.\")"
   ]
  },
  {
   "cell_type": "code",
   "execution_count": null,
   "id": "371d61a1",
   "metadata": {},
   "outputs": [],
   "source": [
    "# Tested, 55 True, 44 False"
   ]
  }
 ],
 "metadata": {
  "kernelspec": {
   "display_name": "Python 3 (ipykernel)",
   "language": "python",
   "name": "python3"
  },
  "language_info": {
   "codemirror_mode": {
    "name": "ipython",
    "version": 3
   },
   "file_extension": ".py",
   "mimetype": "text/x-python",
   "name": "python",
   "nbconvert_exporter": "python",
   "pygments_lexer": "ipython3",
   "version": "3.11.6"
  }
 },
 "nbformat": 4,
 "nbformat_minor": 5
}
